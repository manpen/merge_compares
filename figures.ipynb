{
 "cells": [
  {
   "cell_type": "code",
   "execution_count": 23,
   "metadata": {
    "collapsed": false
   },
   "outputs": [],
   "source": [
    "import numpy as np\n",
    "import pandas as pd\n",
    "import matplotlib\n",
    "import matplotlib.pyplot as plt\n",
    "import glob\n"
   ]
  },
  {
   "cell_type": "code",
   "execution_count": 28,
   "metadata": {
    "collapsed": false
   },
   "outputs": [],
   "source": [
    "data = None\n",
    "for f in glob.glob(\"release/ncomp*.csv\"):\n",
    "    fdata = pd.read_csv(f)\n",
    "    data = fdata if data is None else data.append(fdata)\n"
   ]
  },
  {
   "cell_type": "code",
   "execution_count": 33,
   "metadata": {
    "collapsed": false
   },
   "outputs": [
    {
     "name": "stdout",
     "output_type": "stream",
     "text": [
      "lin          algo  logn  maxc  avgc\n",
      "n                              \n",
      "2        2048  2048  2048  2048\n",
      "4        2048  2048  2048  2048\n",
      "8        2048  2048  2048  2048\n",
      "16       2048  2048  2048  2048\n",
      "32       2048  2048  2048  2048\n",
      "64       2048  2048  2048  2048\n",
      "128      2048  2048  2048  2048\n",
      "256      2048  2048  2048  2048\n",
      "512      2048  2048  2048  2048\n",
      "1024     2048  2048  2048  2048\n",
      "2048     2048  2048  2048  2048\n",
      "4096     2048  2048  2048  2048\n",
      "8192     1024  1024  1024  1024\n",
      "16384     512   512   512   512\n",
      "32768     256   256   256   256\n",
      "65536     128   128   128   128\n",
      "131072     64    64    64    64\n",
      "262144     32    32    32    32\n",
      "524288     32    32    32    32\n",
      "1048576    32    32    32    32\n",
      "2097152    32    32    32    32\n",
      "4194304    32    32    32    32\n",
      "exp          algo  logn  maxc  avgc\n",
      "n                              \n",
      "2        2048  2048  2048  2048\n",
      "4        2048  2048  2048  2048\n",
      "8        2048  2048  2048  2048\n",
      "16       2048  2048  2048  2048\n",
      "32       2048  2048  2048  2048\n",
      "64       2048  2048  2048  2048\n",
      "128      2048  2048  2048  2048\n",
      "256      2048  2048  2048  2048\n",
      "512      2048  2048  2048  2048\n",
      "1024     2048  2048  2048  2048\n",
      "2048     2048  2048  2048  2048\n",
      "4096     2048  2048  2048  2048\n",
      "8192     1024  1024  1024  1024\n",
      "16384     512   512   512   512\n",
      "32768     256   256   256   256\n",
      "65536     128   128   128   128\n",
      "131072     64    64    64    64\n",
      "262144     32    32    32    32\n",
      "524288     32    32    32    32\n",
      "1048576    32    32    32    32\n",
      "2097152    32    32    32    32\n",
      "4194304    32    32    32    32\n",
      "stab          algo  logn  maxc  avgc\n",
      "n                              \n",
      "2        2048  2048  2048  2048\n",
      "4        2048  2048  2048  2048\n",
      "8        2048  2048  2048  2048\n",
      "16       2048  2048  2048  2048\n",
      "32       2048  2048  2048  2048\n",
      "64       2048  2048  2048  2048\n",
      "128      2048  2048  2048  2048\n",
      "256      2048  2048  2048  2048\n",
      "512      2048  2048  2048  2048\n",
      "1024     2048  2048  2048  2048\n",
      "2048     2048  2048  2048  2048\n",
      "4096     2048  2048  2048  2048\n",
      "8192     1024  1024  1024  1024\n",
      "16384     512   512   512   512\n",
      "32768     256   256   256   256\n",
      "65536     128   128   128   128\n",
      "131072     64    64    64    64\n",
      "262144     32    32    32    32\n",
      "524288     32    32    32    32\n",
      "1048576    32    32    32    32\n",
      "2097152    32    32    32    32\n",
      "4194304    32    32    32    32\n",
      "intro          algo  logn  maxc  avgc\n",
      "n                              \n",
      "2        2048  2048  2048  2048\n",
      "4        2048  2048  2048  2048\n",
      "8        2048  2048  2048  2048\n",
      "16       2048  2048  2048  2048\n",
      "32       2048  2048  2048  2048\n",
      "64       2048  2048  2048  2048\n",
      "128      2048  2048  2048  2048\n",
      "256      2048  2048  2048  2048\n",
      "512      2048  2048  2048  2048\n",
      "1024     2048  2048  2048  2048\n",
      "2048     2048  2048  2048  2048\n",
      "4096     2048  2048  2048  2048\n",
      "8192     1024  1024  1024  1024\n",
      "16384     512   512   512   512\n",
      "32768     256   256   256   256\n",
      "65536     128   128   128   128\n",
      "131072     64    64    64    64\n",
      "262144     32    32    32    32\n",
      "524288     32    32    32    32\n",
      "1048576    32    32    32    32\n",
      "2097152    32    32    32    32\n",
      "4194304    32    32    32    32\n"
     ]
    },
    {
     "data": {
      "image/png": "[encoded data removed]",
      "text/plain": [
       "<matplotlib.figure.Figure at 0x7ff64f10a240>"
      ]
     },
     "metadata": {},
     "output_type": "display_data"
    },
    {
     "name": "stdout",
     "output_type": "stream",
     "text": [
      "lin          algo  logn  maxc  avgc\n",
      "n                              \n",
      "2        2048  2048  2048  2048\n",
      "4        2048  2048  2048  2048\n",
      "8        2048  2048  2048  2048\n",
      "16       2048  2048  2048  2048\n",
      "32       2048  2048  2048  2048\n",
      "64       2048  2048  2048  2048\n",
      "128      2048  2048  2048  2048\n",
      "256      2048  2048  2048  2048\n",
      "512      2048  2048  2048  2048\n",
      "1024     2048  2048  2048  2048\n",
      "2048     2048  2048  2048  2048\n",
      "4096     2048  2048  2048  2048\n",
      "8192     1024  1024  1024  1024\n",
      "16384     512   512   512   512\n",
      "32768     256   256   256   256\n",
      "65536     128   128   128   128\n",
      "131072     64    64    64    64\n",
      "262144     32    32    32    32\n",
      "524288     32    32    32    32\n",
      "1048576    32    32    32    32\n",
      "2097152    32    32    32    32\n",
      "4194304    32    32    32    32\n",
      "exp          algo  logn  maxc  avgc\n",
      "n                              \n",
      "2        2048  2048  2048  2048\n",
      "4        2048  2048  2048  2048\n",
      "8        2048  2048  2048  2048\n",
      "16       2048  2048  2048  2048\n",
      "32       2048  2048  2048  2048\n",
      "64       2048  2048  2048  2048\n",
      "128      2048  2048  2048  2048\n",
      "256      2048  2048  2048  2048\n",
      "512      2048  2048  2048  2048\n",
      "1024     2048  2048  2048  2048\n",
      "2048     2048  2048  2048  2048\n",
      "4096     2048  2048  2048  2048\n",
      "8192     1024  1024  1024  1024\n",
      "16384     512   512   512   512\n",
      "32768     256   256   256   256\n",
      "65536     128   128   128   128\n",
      "131072     64    64    64    64\n",
      "262144     32    32    32    32\n",
      "524288     32    32    32    32\n",
      "1048576    32    32    32    32\n",
      "2097152    32    32    32    32\n",
      "4194304    32    32    32    32\n",
      "stab          algo  logn  maxc  avgc\n",
      "n                              \n",
      "2        2048  2048  2048  2048\n",
      "4        2048  2048  2048  2048\n",
      "8        2048  2048  2048  2048\n",
      "16       2048  2048  2048  2048\n",
      "32       2048  2048  2048  2048\n",
      "64       2048  2048  2048  2048\n",
      "128      2048  2048  2048  2048\n",
      "256      2048  2048  2048  2048\n",
      "512      2048  2048  2048  2048\n",
      "1024     2048  2048  2048  2048\n",
      "2048     2048  2048  2048  2048\n",
      "4096     2048  2048  2048  2048\n",
      "8192     1024  1024  1024  1024\n",
      "16384     512   512   512   512\n",
      "32768     256   256   256   256\n",
      "65536     128   128   128   128\n",
      "131072     64    64    64    64\n",
      "262144     32    32    32    32\n",
      "524288     32    32    32    32\n",
      "1048576    32    32    32    32\n",
      "2097152    32    32    32    32\n",
      "4194304    32    32    32    32\n",
      "intro          algo  logn  maxc  avgc\n",
      "n                              \n",
      "2        2048  2048  2048  2048\n",
      "4        2048  2048  2048  2048\n",
      "8        2048  2048  2048  2048\n",
      "16       2048  2048  2048  2048\n",
      "32       2048  2048  2048  2048\n",
      "64       2048  2048  2048  2048\n",
      "128      2048  2048  2048  2048\n",
      "256      2048  2048  2048  2048\n",
      "512      2048  2048  2048  2048\n",
      "1024     2048  2048  2048  2048\n",
      "2048     2048  2048  2048  2048\n",
      "4096     2048  2048  2048  2048\n",
      "8192     1024  1024  1024  1024\n",
      "16384     512   512   512   512\n",
      "32768     256   256   256   256\n",
      "65536     128   128   128   128\n",
      "131072     64    64    64    64\n",
      "262144     32    32    32    32\n",
      "524288     32    32    32    32\n",
      "1048576    32    32    32    32\n",
      "2097152    32    32    32    32\n",
      "4194304    32    32    32    32\n"
     ]
    },
    {
     "data": {
      "image/png": "[encoded data removed]",
      "text/plain": [
       "<matplotlib.figure.Figure at 0x7ff64f0c2eb8>"
      ]
     },
     "metadata": {},
     "output_type": "display_data"
    }
   ],
   "source": [
    "plt.cla()\n",
    "plt.clf()\n",
    "\n",
    "\n",
    "for ycol in [\"Avg\", \"Max\"]:\n",
    "    plt.semilogx(basex=2)\n",
    "    plt.xlabel(\"Number n of elements sorted\")\n",
    "    \n",
    "    for alg in data.algo.unique():\n",
    "        plt.ylabel(ycol + \" compares per el / log(n)\")\n",
    "        view = data[data.algo == alg]\n",
    "        grp = view.groupby(\"n\")\n",
    "        print(alg, grp.count())\n",
    "        \n",
    "        col = grp[ycol.lower()+\"c\"]\n",
    "        \n",
    "        val = col.mean() / grp.logn.mean()**1\n",
    "        var = col.std() / grp.logn.mean()**1\n",
    "        \n",
    "        if np.max(grp[ycol.lower()+\"c\"].mean()) > 1e5:\n",
    "            continue\n",
    "        \n",
    "        plt.errorbar(val.index, val, var, label=alg)\n",
    "\n",
    "    plt.legend()\n",
    "    plt.show()    "
   ]
  },
  {
   "cell_type": "code",
   "execution_count": 35,
   "metadata": {
    "collapsed": false
   },
   "outputs": [
    {
     "data": {
      "text/plain": [
       "1307674368000"
      ]
     },
     "execution_count": 35,
     "metadata": {},
     "output_type": "execute_result"
    }
   ],
   "source": [
    "np.prod(range(1, 16))"
   ]
  },
  {
   "cell_type": "code",
   "execution_count": null,
   "metadata": {
    "collapsed": true
   },
   "outputs": [],
   "source": []
  }
 ],
 "metadata": {
  "kernelspec": {
   "display_name": "Python 3",
   "language": "python",
   "name": "python3"
  },
  "language_info": {
   "codemirror_mode": {
    "name": "ipython",
    "version": 3
   },
   "file_extension": ".py",
   "mimetype": "text/x-python",
   "name": "python",
   "nbconvert_exporter": "python",
   "pygments_lexer": "ipython3",
   "version": "3.6.3"
  }
 },
 "nbformat": 4,
 "nbformat_minor": 2
}
